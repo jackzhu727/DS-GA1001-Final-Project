{
 "cells": [
  {
   "cell_type": "markdown",
   "metadata": {},
   "source": [
    "# Final Project"
   ]
  },
  {
   "cell_type": "markdown",
   "metadata": {},
   "source": [
    "# Data Preview"
   ]
  },
  {
   "cell_type": "markdown",
   "metadata": {},
   "source": [
    "Data files include:<br>\n",
    "- listings.csv (extracted information of listings)<br> \n",
    "- listings_detailed.csv (detailed information of listings)<br>\n",
    "- neighbourhoods.csv (neighbourhoods in New York)<br>\n",
    "- reviews.csv (summary review data and listing id)<br>\n",
    "- reviews_detailed.csv (detailed review data include: listing id, date and comments)<br>\n",
    "- calendar.csv (available dates and corresponding price of each listing)<br>"
   ]
  },
  {
   "cell_type": "code",
   "execution_count": 1,
   "metadata": {},
   "outputs": [
    {
     "name": "stdout",
     "output_type": "stream",
     "text": [
      "   50172 data/listings.csv\n",
      "id,name,host_id,host_name,neighbourhood_group,neighbourhood,latitude,longitude,room_type,price,minimum_nights,number_of_reviews,last_review,reviews_per_month,calculated_host_listings_count,availability_365\n",
      "2515,Stay at Chez Chic budget room #1,2758,Steph,Manhattan,Harlem,40.79920479936168,-73.95367574543542,Private room,59,2,173,2018-09-18,1.42,3,310\n"
     ]
    }
   ],
   "source": [
    "!wc -l \"data/listings.csv\"\n",
    "! head -2 'data/listings.csv'"
   ]
  },
  {
   "cell_type": "code",
   "execution_count": 2,
   "metadata": {},
   "outputs": [
    {
     "name": "stdout",
     "output_type": "stream",
     "text": [
      "   93674 data/listings_detailed.csv\n",
      "id,listing_url,scrape_id,last_scraped,name,summary,space,description,experiences_offered,neighborhood_overview,notes,transit,access,interaction,house_rules,thumbnail_url,medium_url,picture_url,xl_picture_url,host_id,host_url,host_name,host_since,host_location,host_about,host_response_time,host_response_rate,host_acceptance_rate,host_is_superhost,host_thumbnail_url,host_picture_url,host_neighbourhood,host_listings_count,host_total_listings_count,host_verifications,host_has_profile_pic,host_identity_verified,street,neighbourhood,neighbourhood_cleansed,neighbourhood_group_cleansed,city,state,zipcode,market,smart_location,country_code,country,latitude,longitude,is_location_exact,property_type,room_type,accommodates,bathrooms,bedrooms,beds,bed_type,amenities,square_feet,price,weekly_price,monthly_price,security_deposit,cleaning_fee,guests_included,extra_people,minimum_nights,maximum_nights,calendar_updated,has_availability,availability_30,availability_60,availability_90,availability_365,calendar_last_scraped,number_of_reviews,first_review,last_review,review_scores_rating,review_scores_accuracy,review_scores_cleanliness,review_scores_checkin,review_scores_communication,review_scores_location,review_scores_value,requires_license,license,jurisdiction_names,instant_bookable,is_business_travel_ready,cancellation_policy,require_guest_profile_picture,require_guest_phone_verification,calculated_host_listings_count,reviews_per_month\n",
      "2515,https://www.airbnb.com/rooms/2515,20181003014905,2018-10-03,Stay at Chez Chic budget room #1,Step into our artistic spacious apartment and enjoy your artistic Guest room with original artwork from NY artists. Shared with my little family however we often out and you won't see us much. across the street from Central Park - the busy city minutes away but sleeping in quiet at night!,\"-PLEASE BOOK DIRECTLY. NO NEED TO SEND A REQUEST FOR DATES CALENDAR IS UP TO DATE ALL AIRBNB RESERVATIONS WILL BE HONORED Nice, comfortable, and clean private guest room with shared bathroom (2 people max) - full size bed. In very nice apartment on central Park North 4th floor walk-up. same place as Chez chic #2, max capacity of the rooms 2 people). You will share the apt with me and my little family. Daily cleaning in common areas. Located one block from Subway 2/3,B/C on 110th street, Bus M1,2,3,4 at the corner, central park across the street.  Your room: full size bed (sleeps two), desk, Digital Tv/DVD, wifi internet, A/C, closet and desk. Sheets/Towels provided. Iron/air dryer provided. Separate Full bathroom shared with guestroom room #2. Access to the Kitchen from 8AM weekdays or anytime during the weekend and light cooking, access to kitchen at all times but no cooking in the evening.  The apartment: spacious newly renovated, hardwood floors,3BD, 2Bath apartment with Living room\",\"Step into our artistic spacious apartment and enjoy your artistic Guest room with original artwork from NY artists. Shared with my little family however we often out and you won't see us much. across the street from Central Park - the busy city minutes away but sleeping in quiet at night! -PLEASE BOOK DIRECTLY. NO NEED TO SEND A REQUEST FOR DATES CALENDAR IS UP TO DATE ALL AIRBNB RESERVATIONS WILL BE HONORED Nice, comfortable, and clean private guest room with shared bathroom (2 people max) - full size bed. In very nice apartment on central Park North 4th floor walk-up. same place as Chez chic #2, max capacity of the rooms 2 people). You will share the apt with me and my little family. Daily cleaning in common areas. Located one block from Subway 2/3,B/C on 110th street, Bus M1,2,3,4 at the corner, central park across the street.  Your room: full size bed (sleeps two), desk, Digital Tv/DVD, wifi internet, A/C, closet and desk. Sheets/Towels provided. Iron/air dryer provided. Separate F\",none,\"\",Please no cooking at night but you can warm up food in the microwave and use the kitchen ,Subway 2.3.B.C. at 110th street around the corner and bus M.2.3.4 at the corner,\"Guests will have their PRIVATE BATHROOM (NOTE: Shared between June 22-Aug 22) (shared with 2nd guestroom if there are guests), and the kitchen\",\"We will have a list of Harlem restaurants and points of interest ready for you, as well as a subway map of NYC and pratical infos.\",no-smoking/please take off your shoes: cleaning fees $40,,,https://a0.muscache.com/im/pictures/d0489e42-4333-4360-911f-413d503fe146.jpg?aki_policy=large,,2758,https://www.airbnb.com/users/show/2758,Steph,2008-09-06,\"New York, New York, United States\", loves to host and welcome travelers from around the world in our family Apt.,N/A,N/A,N/A,f,https://a0.muscache.com/im/users/2758/profile_pic/1338267836/original.jpg?aki_policy=profile_small,https://a0.muscache.com/im/users/2758/profile_pic/1338267836/original.jpg?aki_policy=profile_x_medium,Harlem,3,3,\"['email', 'phone', 'facebook', 'reviews', 'jumio', 'offline_government_id', 'government_id']\",t,t,\"New York, NY, United States\",Harlem,Harlem,Manhattan,New York,NY,10026,New York,\"New York, NY\",US,United States,40.79920479936168,-73.95367574543542,t,Apartment,Private room,3,1.0,1,2,Real Bed,\"{TV,\"\"Cable TV\"\",Internet,Wifi,\"\"Air conditioning\"\",Kitchen,\"\"Free street parking\"\",\"\"Buzzer/wireless intercom\"\",Heating,\"\"Family/kid friendly\"\",\"\"Smoke detector\"\",\"\"Carbon monoxide detector\"\",\"\"Fire extinguisher\"\",Essentials,Shampoo,\"\"Lock on bedroom door\"\",Hangers,\"\"Hair dryer\"\",Iron,\"\"Laptop friendly workspace\"\",\"\"Children’s books and toys\"\",\"\"Window guards\"\",\"\"Pack ’n Play/travel crib\"\",\"\"Hot water\"\",Microwave,\"\"Coffee maker\"\",Refrigerator,\"\"Dishes and silverware\"\",\"\"Cooking basics\"\",Oven,Stove,\"\"Host greets you\"\"}\",,$59.00,$720.00,\"$1,690.00\",$0.00,$60.00,2,$39.00,2,21,today,t,10,22,44,310,2018-10-03,173,2008-10-13,2018-09-18,93,9,9,10,9,9,9,f,,,f,f,strict_14_with_grace_period,f,f,3,1.42\n"
     ]
    }
   ],
   "source": [
    "!wc -l \"data/listings_detailed.csv\"\n",
    "! head -2 'data/listings_detailed.csv'"
   ]
  },
  {
   "cell_type": "code",
   "execution_count": 3,
   "metadata": {},
   "outputs": [
    {
     "name": "stdout",
     "output_type": "stream",
     "text": [
      "neighbourhood_group,neighbourhood\r\n",
      "Bronx,Allerton\r\n",
      "Bronx,Baychester\r\n",
      "Bronx,Belmont\r\n",
      "Bronx,Bronxdale\r\n",
      "Bronx,Castle Hill\r\n",
      "Bronx,City Island\r\n",
      "Bronx,Claremont Village\r\n",
      "Bronx,Clason Point\r\n",
      "Bronx,Concourse\r\n"
     ]
    }
   ],
   "source": [
    "! head -10 'data/neighbourhoods.csv'"
   ]
  },
  {
   "cell_type": "code",
   "execution_count": 4,
   "metadata": {},
   "outputs": [
    {
     "name": "stdout",
     "output_type": "stream",
     "text": [
      "listing_id,date\r\n",
      "2515,2008-10-13\r\n",
      "2515,2009-03-08\r\n",
      "2515,2009-03-25\r\n",
      "2515,2009-03-27\r\n"
     ]
    }
   ],
   "source": [
    "! head -5 'data/reviews.csv'"
   ]
  },
  {
   "cell_type": "code",
   "execution_count": 5,
   "metadata": {},
   "outputs": [
    {
     "name": "stdout",
     "output_type": "stream",
     "text": [
      "listing_id,id,date,reviewer_id,reviewer_name,comments\r\n",
      "2515,198,2008-10-13,2603,Jenny,Stephanie was a wonderful host! Her apartment was beautiful and extremely clean. We had a very nice (and affordable!) stay in the city with private room and own bathroom.\r\n"
     ]
    }
   ],
   "source": [
    "! head -2 'data/reviews_detailed.csv'"
   ]
  },
  {
   "cell_type": "code",
   "execution_count": 6,
   "metadata": {},
   "outputs": [
    {
     "name": "stdout",
     "output_type": "stream",
     "text": [
      "listing_id,date,available,price\r\n",
      "16458,2019-08-06,f,\r\n",
      "16338,2019-10-02,t,$55.00\r\n",
      "16338,2019-10-01,t,$55.00\r\n",
      "16338,2019-09-30,t,$55.00\r\n"
     ]
    }
   ],
   "source": [
    "! head -5 'data/calendar.csv'"
   ]
  },
  {
   "cell_type": "markdown",
   "metadata": {},
   "source": [
    "# Preprocess"
   ]
  },
  {
   "cell_type": "code",
   "execution_count": 1,
   "metadata": {},
   "outputs": [],
   "source": [
    "import pandas as pd\n",
    "import matplotlib.pyplot as plt\n",
    "import datetime as dt\n",
    "import numpy as np\n",
    "# import re\n",
    "%matplotlib inline"
   ]
  },
  {
   "cell_type": "code",
   "execution_count": 2,
   "metadata": {},
   "outputs": [
    {
     "name": "stderr",
     "output_type": "stream",
     "text": [
      "/Users/carold/anaconda3/lib/python3.6/site-packages/IPython/core/interactiveshell.py:2785: DtypeWarning: Columns (43,87,88) have mixed types. Specify dtype option on import or set low_memory=False.\n",
      "  interactivity=interactivity, compiler=compiler, result=result)\n"
     ]
    }
   ],
   "source": [
    "listing = pd.read_csv('data/listings_detailed.csv')"
   ]
  },
  {
   "cell_type": "code",
   "execution_count": 3,
   "metadata": {},
   "outputs": [
    {
     "name": "stdout",
     "output_type": "stream",
     "text": [
      "<class 'pandas.core.frame.DataFrame'>\n",
      "RangeIndex: 50041 entries, 0 to 50040\n",
      "Data columns (total 96 columns):\n",
      "id                                  50041 non-null int64\n",
      "listing_url                         50041 non-null object\n",
      "scrape_id                           50041 non-null int64\n",
      "last_scraped                        50041 non-null object\n",
      "name                                50018 non-null object\n",
      "summary                             48185 non-null object\n",
      "space                               34379 non-null object\n",
      "description                         49610 non-null object\n",
      "experiences_offered                 50041 non-null object\n",
      "neighborhood_overview               29820 non-null object\n",
      "notes                               19906 non-null object\n",
      "transit                             31091 non-null object\n",
      "access                              28928 non-null object\n",
      "interaction                         27811 non-null object\n",
      "house_rules                         29879 non-null object\n",
      "thumbnail_url                       0 non-null float64\n",
      "medium_url                          0 non-null float64\n",
      "picture_url                         50041 non-null object\n",
      "xl_picture_url                      0 non-null float64\n",
      "host_id                             50041 non-null int64\n",
      "host_url                            50041 non-null object\n",
      "host_name                           50032 non-null object\n",
      "host_since                          50032 non-null object\n",
      "host_location                       49884 non-null object\n",
      "host_about                          30501 non-null object\n",
      "host_response_time                  24089 non-null object\n",
      "host_response_rate                  24086 non-null object\n",
      "host_acceptance_rate                0 non-null float64\n",
      "host_is_superhost                   50032 non-null object\n",
      "host_thumbnail_url                  50032 non-null object\n",
      "host_picture_url                    50032 non-null object\n",
      "host_neighbourhood                  43008 non-null object\n",
      "host_listings_count                 50032 non-null float64\n",
      "host_total_listings_count           50032 non-null float64\n",
      "host_verifications                  50041 non-null object\n",
      "host_has_profile_pic                50032 non-null object\n",
      "host_identity_verified              50032 non-null object\n",
      "street                              50041 non-null object\n",
      "neighbourhood                       47668 non-null object\n",
      "neighbourhood_cleansed              50041 non-null object\n",
      "neighbourhood_group_cleansed        50041 non-null object\n",
      "city                                49979 non-null object\n",
      "state                               50030 non-null object\n",
      "zipcode                             49305 non-null object\n",
      "market                              49904 non-null object\n",
      "smart_location                      50041 non-null object\n",
      "country_code                        50041 non-null object\n",
      "country                             50041 non-null object\n",
      "latitude                            50041 non-null float64\n",
      "longitude                           50041 non-null float64\n",
      "is_location_exact                   50041 non-null object\n",
      "property_type                       50041 non-null object\n",
      "room_type                           50041 non-null object\n",
      "accommodates                        50041 non-null int64\n",
      "bathrooms                           49945 non-null float64\n",
      "bedrooms                            49985 non-null float64\n",
      "beds                                49977 non-null float64\n",
      "bed_type                            50041 non-null object\n",
      "amenities                           50041 non-null object\n",
      "square_feet                         470 non-null float64\n",
      "price                               50041 non-null object\n",
      "weekly_price                        7177 non-null object\n",
      "monthly_price                       6267 non-null object\n",
      "security_deposit                    30777 non-null object\n",
      "cleaning_fee                        37857 non-null object\n",
      "guests_included                     50041 non-null int64\n",
      "extra_people                        50041 non-null object\n",
      "minimum_nights                      50041 non-null int64\n",
      "maximum_nights                      50041 non-null int64\n",
      "calendar_updated                    50041 non-null object\n",
      "has_availability                    50041 non-null object\n",
      "availability_30                     50041 non-null int64\n",
      "availability_60                     50041 non-null int64\n",
      "availability_90                     50041 non-null int64\n",
      "availability_365                    50041 non-null int64\n",
      "calendar_last_scraped               50041 non-null object\n",
      "number_of_reviews                   50041 non-null int64\n",
      "first_review                        39536 non-null object\n",
      "last_review                         39536 non-null object\n",
      "review_scores_rating                38445 non-null float64\n",
      "review_scores_accuracy              38393 non-null float64\n",
      "review_scores_cleanliness           38414 non-null float64\n",
      "review_scores_checkin               38365 non-null float64\n",
      "review_scores_communication         38400 non-null float64\n",
      "review_scores_location              38359 non-null float64\n",
      "review_scores_value                 38360 non-null float64\n",
      "requires_license                    50041 non-null object\n",
      "license                             7 non-null object\n",
      "jurisdiction_names                  28 non-null object\n",
      "instant_bookable                    50041 non-null object\n",
      "is_business_travel_ready            50041 non-null object\n",
      "cancellation_policy                 50041 non-null object\n",
      "require_guest_profile_picture       50041 non-null object\n",
      "require_guest_phone_verification    50041 non-null object\n",
      "calculated_host_listings_count      50041 non-null int64\n",
      "reviews_per_month                   39536 non-null float64\n",
      "dtypes: float64(20), int64(13), object(63)\n",
      "memory usage: 36.7+ MB\n"
     ]
    }
   ],
   "source": [
    "listing.info()"
   ]
  },
  {
   "cell_type": "code",
   "execution_count": 4,
   "metadata": {},
   "outputs": [
    {
     "data": {
      "text/plain": [
       "Index(['id', 'listing_url', 'scrape_id', 'last_scraped', 'name', 'summary',\n",
       "       'space', 'description', 'experiences_offered', 'neighborhood_overview',\n",
       "       'notes', 'transit', 'access', 'interaction', 'house_rules',\n",
       "       'thumbnail_url', 'medium_url', 'picture_url', 'xl_picture_url',\n",
       "       'host_id', 'host_url', 'host_name', 'host_since', 'host_location',\n",
       "       'host_about', 'host_response_time', 'host_response_rate',\n",
       "       'host_acceptance_rate', 'host_is_superhost', 'host_thumbnail_url',\n",
       "       'host_picture_url', 'host_neighbourhood', 'host_listings_count',\n",
       "       'host_total_listings_count', 'host_verifications',\n",
       "       'host_has_profile_pic', 'host_identity_verified', 'street',\n",
       "       'neighbourhood', 'neighbourhood_cleansed',\n",
       "       'neighbourhood_group_cleansed', 'city', 'state', 'zipcode', 'market',\n",
       "       'smart_location', 'country_code', 'country', 'latitude', 'longitude',\n",
       "       'is_location_exact', 'property_type', 'room_type', 'accommodates',\n",
       "       'bathrooms', 'bedrooms', 'beds', 'bed_type', 'amenities', 'square_feet',\n",
       "       'price', 'weekly_price', 'monthly_price', 'security_deposit',\n",
       "       'cleaning_fee', 'guests_included', 'extra_people', 'minimum_nights',\n",
       "       'maximum_nights', 'calendar_updated', 'has_availability',\n",
       "       'availability_30', 'availability_60', 'availability_90',\n",
       "       'availability_365', 'calendar_last_scraped', 'number_of_reviews',\n",
       "       'first_review', 'last_review', 'review_scores_rating',\n",
       "       'review_scores_accuracy', 'review_scores_cleanliness',\n",
       "       'review_scores_checkin', 'review_scores_communication',\n",
       "       'review_scores_location', 'review_scores_value', 'requires_license',\n",
       "       'license', 'jurisdiction_names', 'instant_bookable',\n",
       "       'is_business_travel_ready', 'cancellation_policy',\n",
       "       'require_guest_profile_picture', 'require_guest_phone_verification',\n",
       "       'calculated_host_listings_count', 'reviews_per_month'],\n",
       "      dtype='object')"
      ]
     },
     "execution_count": 4,
     "metadata": {},
     "output_type": "execute_result"
    }
   ],
   "source": [
    "listing.columns"
   ]
  },
  {
   "cell_type": "markdown",
   "metadata": {},
   "source": [
    "remove features with too many NaN values"
   ]
  },
  {
   "cell_type": "code",
   "execution_count": 3,
   "metadata": {},
   "outputs": [
    {
     "name": "stdout",
     "output_type": "stream",
     "text": [
      "List of dropped columns:\n",
      "thumbnail_url, medium_url, xl_picture_url, host_acceptance_rate, square_feet, weekly_price, monthly_price, license, jurisdiction_names, \n",
      "\n"
     ]
    }
   ],
   "source": [
    "#missing values > 70%\n",
    "df = listing[[column for column in listing if listing[column].count() / len(listing) >= 0.3]]\n",
    "print(\"List of dropped columns:\")\n",
    "for c in listing.columns:\n",
    "    if c not in df.columns:\n",
    "        print(c, end=\", \")\n",
    "print('\\n')\n",
    "\n",
    "##weekly_price, monthly_price ????"
   ]
  },
  {
   "cell_type": "code",
   "execution_count": 6,
   "metadata": {},
   "outputs": [
    {
     "data": {
      "text/html": [
       "<div>\n",
       "<style scoped>\n",
       "    .dataframe tbody tr th:only-of-type {\n",
       "        vertical-align: middle;\n",
       "    }\n",
       "\n",
       "    .dataframe tbody tr th {\n",
       "        vertical-align: top;\n",
       "    }\n",
       "\n",
       "    .dataframe thead th {\n",
       "        text-align: right;\n",
       "    }\n",
       "</style>\n",
       "<table border=\"1\" class=\"dataframe\">\n",
       "  <thead>\n",
       "    <tr style=\"text-align: right;\">\n",
       "      <th></th>\n",
       "      <th>id</th>\n",
       "      <th>listing_url</th>\n",
       "      <th>scrape_id</th>\n",
       "      <th>last_scraped</th>\n",
       "      <th>name</th>\n",
       "      <th>summary</th>\n",
       "      <th>space</th>\n",
       "      <th>description</th>\n",
       "      <th>experiences_offered</th>\n",
       "      <th>neighborhood_overview</th>\n",
       "      <th>...</th>\n",
       "      <th>requires_license</th>\n",
       "      <th>license</th>\n",
       "      <th>jurisdiction_names</th>\n",
       "      <th>instant_bookable</th>\n",
       "      <th>is_business_travel_ready</th>\n",
       "      <th>cancellation_policy</th>\n",
       "      <th>require_guest_profile_picture</th>\n",
       "      <th>require_guest_phone_verification</th>\n",
       "      <th>calculated_host_listings_count</th>\n",
       "      <th>reviews_per_month</th>\n",
       "    </tr>\n",
       "  </thead>\n",
       "  <tbody>\n",
       "    <tr>\n",
       "      <th>0</th>\n",
       "      <td>2515</td>\n",
       "      <td>https://www.airbnb.com/rooms/2515</td>\n",
       "      <td>20181003014905</td>\n",
       "      <td>2018-10-03</td>\n",
       "      <td>Stay at Chez Chic budget room #1</td>\n",
       "      <td>Step into our artistic spacious apartment and ...</td>\n",
       "      <td>-PLEASE BOOK DIRECTLY. NO NEED TO SEND A REQUE...</td>\n",
       "      <td>Step into our artistic spacious apartment and ...</td>\n",
       "      <td>none</td>\n",
       "      <td>NaN</td>\n",
       "      <td>...</td>\n",
       "      <td>f</td>\n",
       "      <td>NaN</td>\n",
       "      <td>NaN</td>\n",
       "      <td>f</td>\n",
       "      <td>f</td>\n",
       "      <td>strict_14_with_grace_period</td>\n",
       "      <td>f</td>\n",
       "      <td>f</td>\n",
       "      <td>3</td>\n",
       "      <td>1.42</td>\n",
       "    </tr>\n",
       "    <tr>\n",
       "      <th>1</th>\n",
       "      <td>2539</td>\n",
       "      <td>https://www.airbnb.com/rooms/2539</td>\n",
       "      <td>20181003014905</td>\n",
       "      <td>2018-10-03</td>\n",
       "      <td>Clean &amp; quiet apt home by the park</td>\n",
       "      <td>Renovated apt home in elevator building.</td>\n",
       "      <td>Spacious, renovated, and clean apt home, one b...</td>\n",
       "      <td>Renovated apt home in elevator building. Spaci...</td>\n",
       "      <td>none</td>\n",
       "      <td>Close to Prospect Park and Historic Ditmas Park</td>\n",
       "      <td>...</td>\n",
       "      <td>f</td>\n",
       "      <td>NaN</td>\n",
       "      <td>NaN</td>\n",
       "      <td>f</td>\n",
       "      <td>f</td>\n",
       "      <td>moderate</td>\n",
       "      <td>f</td>\n",
       "      <td>f</td>\n",
       "      <td>8</td>\n",
       "      <td>0.23</td>\n",
       "    </tr>\n",
       "    <tr>\n",
       "      <th>2</th>\n",
       "      <td>2595</td>\n",
       "      <td>https://www.airbnb.com/rooms/2595</td>\n",
       "      <td>20181003014905</td>\n",
       "      <td>2018-10-03</td>\n",
       "      <td>Skylit Midtown Castle</td>\n",
       "      <td>Find your romantic getaway to this beautiful, ...</td>\n",
       "      <td>- Spacious (500+ft²), immaculate and nicely fu...</td>\n",
       "      <td>Find your romantic getaway to this beautiful, ...</td>\n",
       "      <td>none</td>\n",
       "      <td>Centrally located in the heart of Manhattan ju...</td>\n",
       "      <td>...</td>\n",
       "      <td>f</td>\n",
       "      <td>NaN</td>\n",
       "      <td>NaN</td>\n",
       "      <td>f</td>\n",
       "      <td>f</td>\n",
       "      <td>strict_14_with_grace_period</td>\n",
       "      <td>t</td>\n",
       "      <td>t</td>\n",
       "      <td>2</td>\n",
       "      <td>0.33</td>\n",
       "    </tr>\n",
       "    <tr>\n",
       "      <th>3</th>\n",
       "      <td>3330</td>\n",
       "      <td>https://www.airbnb.com/rooms/3330</td>\n",
       "      <td>20181003014905</td>\n",
       "      <td>2018-10-03</td>\n",
       "      <td>++ Brooklyn Penthouse Guestroom ++</td>\n",
       "      <td>This is a spacious, clean, furnished master be...</td>\n",
       "      <td>Room Features: - clean, hardwood floors - 2 la...</td>\n",
       "      <td>This is a spacious, clean, furnished master be...</td>\n",
       "      <td>none</td>\n",
       "      <td>Location is GREAT!! Right off the L train in t...</td>\n",
       "      <td>...</td>\n",
       "      <td>f</td>\n",
       "      <td>NaN</td>\n",
       "      <td>NaN</td>\n",
       "      <td>f</td>\n",
       "      <td>f</td>\n",
       "      <td>strict_14_with_grace_period</td>\n",
       "      <td>f</td>\n",
       "      <td>f</td>\n",
       "      <td>3</td>\n",
       "      <td>0.32</td>\n",
       "    </tr>\n",
       "    <tr>\n",
       "      <th>4</th>\n",
       "      <td>3647</td>\n",
       "      <td>https://www.airbnb.com/rooms/3647</td>\n",
       "      <td>20181003014905</td>\n",
       "      <td>2018-10-03</td>\n",
       "      <td>THE VILLAGE OF HARLEM....NEW YORK !</td>\n",
       "      <td>NaN</td>\n",
       "      <td>WELCOME TO OUR INTERNATIONAL URBAN COMMUNITY T...</td>\n",
       "      <td>WELCOME TO OUR INTERNATIONAL URBAN COMMUNITY T...</td>\n",
       "      <td>none</td>\n",
       "      <td>NaN</td>\n",
       "      <td>...</td>\n",
       "      <td>f</td>\n",
       "      <td>NaN</td>\n",
       "      <td>NaN</td>\n",
       "      <td>f</td>\n",
       "      <td>f</td>\n",
       "      <td>strict_14_with_grace_period</td>\n",
       "      <td>t</td>\n",
       "      <td>t</td>\n",
       "      <td>1</td>\n",
       "      <td>NaN</td>\n",
       "    </tr>\n",
       "  </tbody>\n",
       "</table>\n",
       "<p>5 rows × 96 columns</p>\n",
       "</div>"
      ],
      "text/plain": [
       "     id                        listing_url       scrape_id last_scraped  \\\n",
       "0  2515  https://www.airbnb.com/rooms/2515  20181003014905   2018-10-03   \n",
       "1  2539  https://www.airbnb.com/rooms/2539  20181003014905   2018-10-03   \n",
       "2  2595  https://www.airbnb.com/rooms/2595  20181003014905   2018-10-03   \n",
       "3  3330  https://www.airbnb.com/rooms/3330  20181003014905   2018-10-03   \n",
       "4  3647  https://www.airbnb.com/rooms/3647  20181003014905   2018-10-03   \n",
       "\n",
       "                                  name  \\\n",
       "0     Stay at Chez Chic budget room #1   \n",
       "1   Clean & quiet apt home by the park   \n",
       "2                Skylit Midtown Castle   \n",
       "3   ++ Brooklyn Penthouse Guestroom ++   \n",
       "4  THE VILLAGE OF HARLEM....NEW YORK !   \n",
       "\n",
       "                                             summary  \\\n",
       "0  Step into our artistic spacious apartment and ...   \n",
       "1           Renovated apt home in elevator building.   \n",
       "2  Find your romantic getaway to this beautiful, ...   \n",
       "3  This is a spacious, clean, furnished master be...   \n",
       "4                                                NaN   \n",
       "\n",
       "                                               space  \\\n",
       "0  -PLEASE BOOK DIRECTLY. NO NEED TO SEND A REQUE...   \n",
       "1  Spacious, renovated, and clean apt home, one b...   \n",
       "2  - Spacious (500+ft²), immaculate and nicely fu...   \n",
       "3  Room Features: - clean, hardwood floors - 2 la...   \n",
       "4  WELCOME TO OUR INTERNATIONAL URBAN COMMUNITY T...   \n",
       "\n",
       "                                         description experiences_offered  \\\n",
       "0  Step into our artistic spacious apartment and ...                none   \n",
       "1  Renovated apt home in elevator building. Spaci...                none   \n",
       "2  Find your romantic getaway to this beautiful, ...                none   \n",
       "3  This is a spacious, clean, furnished master be...                none   \n",
       "4  WELCOME TO OUR INTERNATIONAL URBAN COMMUNITY T...                none   \n",
       "\n",
       "                               neighborhood_overview        ...          \\\n",
       "0                                                NaN        ...           \n",
       "1    Close to Prospect Park and Historic Ditmas Park        ...           \n",
       "2  Centrally located in the heart of Manhattan ju...        ...           \n",
       "3  Location is GREAT!! Right off the L train in t...        ...           \n",
       "4                                                NaN        ...           \n",
       "\n",
       "  requires_license license jurisdiction_names instant_bookable  \\\n",
       "0                f     NaN                NaN                f   \n",
       "1                f     NaN                NaN                f   \n",
       "2                f     NaN                NaN                f   \n",
       "3                f     NaN                NaN                f   \n",
       "4                f     NaN                NaN                f   \n",
       "\n",
       "  is_business_travel_ready          cancellation_policy  \\\n",
       "0                        f  strict_14_with_grace_period   \n",
       "1                        f                     moderate   \n",
       "2                        f  strict_14_with_grace_period   \n",
       "3                        f  strict_14_with_grace_period   \n",
       "4                        f  strict_14_with_grace_period   \n",
       "\n",
       "   require_guest_profile_picture require_guest_phone_verification  \\\n",
       "0                              f                                f   \n",
       "1                              f                                f   \n",
       "2                              t                                t   \n",
       "3                              f                                f   \n",
       "4                              t                                t   \n",
       "\n",
       "   calculated_host_listings_count  reviews_per_month  \n",
       "0                               3               1.42  \n",
       "1                               8               0.23  \n",
       "2                               2               0.33  \n",
       "3                               3               0.32  \n",
       "4                               1                NaN  \n",
       "\n",
       "[5 rows x 96 columns]"
      ]
     },
     "execution_count": 6,
     "metadata": {},
     "output_type": "execute_result"
    }
   ],
   "source": [
    "listing.head()"
   ]
  },
  {
   "cell_type": "markdown",
   "metadata": {},
   "source": [
    "#### Dropped columns:\n",
    "\n",
    "['name','listing_url',  'scrape_id', 'last_scraped','experiences_offered'(all none),\n",
    "'thumbnail_url', 'medium_url','picture_url'(no null),'host_url',\n",
    " 'host_id', 'host_name','host_acceptance_rate'(no value),'host_thumbnail_url','host_picture_url',\n",
    " 'street','neighbourhood', 'neighbourhood_cleansed','city', 'state', 'zipcode','smart_location','country_code', 'country', 'latitude', 'longitude',\n",
    " 'square_feet','weekly_price', 'monthly_price','calendar_last_scraped',\n",
    " 'requires_license'(all false?), 'license','jurisdiction_names',\n",
    " 'host_neighbourhood','market']\n",
    " \n",
    "------------\n",
    "#### Numerical\n",
    "\n",
    "['host_response_rate','host_listings_count','host_total_listings_count','accommodates','bathrooms', 'bedrooms', 'beds','price','security_deposit','cleaning_fee','guests_included','extra_people','minimum_nights','maximum_nights', 'calendar_updated','availability_30', 'availability_60', 'availability_90',\n",
    "       'availability_365','number_of_reviews',\n",
    "       'review_scores_rating',\n",
    "       'review_scores_accuracy', 'review_scores_cleanliness',\n",
    "       'review_scores_checkin', 'review_scores_communication',\n",
    "       'review_scores_location', 'review_scores_value',\n",
    "       'calculated_host_listings_count','reviews_per_month']\n",
    "\n",
    "------------\n",
    "#### Categorical\n",
    "\n",
    "['host_response_time','neighbourhood_group_cleansed',\n",
    "    'property_type','room_type','bed_type','cancellation_policy']\n",
    "    \n",
    "t/f:[host_is_superhost,\n",
    "host_has_profile_pic,\n",
    "host_identity_verified,\n",
    "is_location_exact,\n",
    "has_availability,\n",
    "instant_bookable,\n",
    "is_business_travel_ready,\n",
    "require_guest_profile_picture,\n",
    "require_guest_phone_verification]\n",
    "\n",
    "------------\n",
    "#### Date\n",
    "\n",
    "['host_since','first_review', 'last_review']\n",
    "\n"
   ]
  },
  {
   "cell_type": "markdown",
   "metadata": {},
   "source": [
    "#### Text columns:\n",
    "\n",
    "[ 'summary','space', 'description','neighborhood_overview','notes','transit','access','interaction','house_rules','host_about']\n",
    "\n",
    "create dummy columns for text columns with missing value > 40%"
   ]
  },
  {
   "cell_type": "code",
   "execution_count": 4,
   "metadata": {},
   "outputs": [
    {
     "name": "stdout",
     "output_type": "stream",
     "text": [
      "missing value > 40%:\n"
     ]
    },
    {
     "data": {
      "text/plain": [
       "Index(['neighborhood_overview', 'notes', 'access', 'interaction',\n",
       "       'house_rules'],\n",
       "      dtype='object')"
      ]
     },
     "execution_count": 4,
     "metadata": {},
     "output_type": "execute_result"
    }
   ],
   "source": [
    "text_cols = [ 'summary','space', 'description','neighborhood_overview','notes',\n",
    "             'transit','access','interaction','house_rules','host_about']\n",
    "print('missing value > 40%:')\n",
    "text_dummy = listing[[column for column in text_cols if listing[column].count() / len(listing) <= 0.6]]\n",
    "text_dummy.columns"
   ]
  },
  {
   "cell_type": "code",
   "execution_count": 5,
   "metadata": {},
   "outputs": [
    {
     "data": {
      "text/plain": [
       "['has_neighborhood_overview',\n",
       " 'has_notes',\n",
       " 'has_access',\n",
       " 'has_interaction',\n",
       " 'has_house_rules']"
      ]
     },
     "execution_count": 5,
     "metadata": {},
     "output_type": "execute_result"
    }
   ],
   "source": [
    "col_added = []\n",
    "for col in text_dummy.columns:\n",
    "    listing.loc[listing[col].isnull(),'has_'+str(col)] = 0\n",
    "    listing['has_'+str(col)].fillna(1, inplace = True)\n",
    "    col_added.append('has_'+str(col))\n",
    "col_added"
   ]
  },
  {
   "cell_type": "code",
   "execution_count": 6,
   "metadata": {},
   "outputs": [],
   "source": [
    " selected_columns = ['id', \n",
    "                     'host_since', 'host_location',\n",
    "                       'host_response_time', 'host_response_rate',\n",
    "                        'host_is_superhost', 'host_listings_count',\n",
    "                       'host_total_listings_count', 'host_verifications',\n",
    "                       'host_has_profile_pic', 'host_identity_verified', \n",
    "                       'neighbourhood_group_cleansed', \n",
    "                       'is_location_exact', 'property_type', 'room_type', 'accommodates',\n",
    "                       'bathrooms', 'bedrooms', 'beds', 'bed_type', 'amenities',\n",
    "                       'price', 'security_deposit',\n",
    "                       'cleaning_fee', 'guests_included', 'extra_people', 'minimum_nights',\n",
    "                       'maximum_nights', 'calendar_updated', 'has_availability',\n",
    "                       'availability_30', 'availability_60', 'availability_90',\n",
    "                       'availability_365', 'number_of_reviews',\n",
    "                       'first_review', 'last_review', 'review_scores_rating',\n",
    "                       'review_scores_accuracy', 'review_scores_cleanliness',\n",
    "                       'review_scores_checkin', 'review_scores_communication',\n",
    "                       'review_scores_location', 'review_scores_value',  'instant_bookable',\n",
    "                       'is_business_travel_ready', 'cancellation_policy',\n",
    "                       'require_guest_profile_picture', 'require_guest_phone_verification',\n",
    "                       'calculated_host_listings_count', 'reviews_per_month',\n",
    "                        'has_neighborhood_overview','has_notes','has_access', 'has_interaction', 'has_house_rules']\n",
    "listing = listing[selected_columns]"
   ]
  },
  {
   "cell_type": "code",
   "execution_count": 7,
   "metadata": {},
   "outputs": [
    {
     "data": {
      "text/html": [
       "<div>\n",
       "<style scoped>\n",
       "    .dataframe tbody tr th:only-of-type {\n",
       "        vertical-align: middle;\n",
       "    }\n",
       "\n",
       "    .dataframe tbody tr th {\n",
       "        vertical-align: top;\n",
       "    }\n",
       "\n",
       "    .dataframe thead th {\n",
       "        text-align: right;\n",
       "    }\n",
       "</style>\n",
       "<table border=\"1\" class=\"dataframe\">\n",
       "  <thead>\n",
       "    <tr style=\"text-align: right;\">\n",
       "      <th></th>\n",
       "      <th>review_scores_rating</th>\n",
       "      <th>review_scores_accuracy</th>\n",
       "      <th>review_scores_cleanliness</th>\n",
       "      <th>review_scores_checkin</th>\n",
       "      <th>review_scores_communication</th>\n",
       "      <th>review_scores_location</th>\n",
       "      <th>review_scores_value</th>\n",
       "    </tr>\n",
       "  </thead>\n",
       "  <tbody>\n",
       "    <tr>\n",
       "      <th>count</th>\n",
       "      <td>38445.000000</td>\n",
       "      <td>38393.000000</td>\n",
       "      <td>38414.000000</td>\n",
       "      <td>38365.000000</td>\n",
       "      <td>38400.000000</td>\n",
       "      <td>38359.000000</td>\n",
       "      <td>38360.000000</td>\n",
       "    </tr>\n",
       "    <tr>\n",
       "      <th>mean</th>\n",
       "      <td>93.726648</td>\n",
       "      <td>9.589482</td>\n",
       "      <td>9.252877</td>\n",
       "      <td>9.731239</td>\n",
       "      <td>9.746536</td>\n",
       "      <td>9.496311</td>\n",
       "      <td>9.378467</td>\n",
       "    </tr>\n",
       "    <tr>\n",
       "      <th>std</th>\n",
       "      <td>8.448151</td>\n",
       "      <td>0.839154</td>\n",
       "      <td>1.082656</td>\n",
       "      <td>0.718694</td>\n",
       "      <td>0.711815</td>\n",
       "      <td>0.793227</td>\n",
       "      <td>0.898531</td>\n",
       "    </tr>\n",
       "    <tr>\n",
       "      <th>min</th>\n",
       "      <td>20.000000</td>\n",
       "      <td>2.000000</td>\n",
       "      <td>2.000000</td>\n",
       "      <td>2.000000</td>\n",
       "      <td>2.000000</td>\n",
       "      <td>2.000000</td>\n",
       "      <td>2.000000</td>\n",
       "    </tr>\n",
       "    <tr>\n",
       "      <th>25%</th>\n",
       "      <td>91.000000</td>\n",
       "      <td>9.000000</td>\n",
       "      <td>9.000000</td>\n",
       "      <td>10.000000</td>\n",
       "      <td>10.000000</td>\n",
       "      <td>9.000000</td>\n",
       "      <td>9.000000</td>\n",
       "    </tr>\n",
       "    <tr>\n",
       "      <th>50%</th>\n",
       "      <td>96.000000</td>\n",
       "      <td>10.000000</td>\n",
       "      <td>10.000000</td>\n",
       "      <td>10.000000</td>\n",
       "      <td>10.000000</td>\n",
       "      <td>10.000000</td>\n",
       "      <td>10.000000</td>\n",
       "    </tr>\n",
       "    <tr>\n",
       "      <th>75%</th>\n",
       "      <td>100.000000</td>\n",
       "      <td>10.000000</td>\n",
       "      <td>10.000000</td>\n",
       "      <td>10.000000</td>\n",
       "      <td>10.000000</td>\n",
       "      <td>10.000000</td>\n",
       "      <td>10.000000</td>\n",
       "    </tr>\n",
       "    <tr>\n",
       "      <th>max</th>\n",
       "      <td>100.000000</td>\n",
       "      <td>10.000000</td>\n",
       "      <td>10.000000</td>\n",
       "      <td>10.000000</td>\n",
       "      <td>10.000000</td>\n",
       "      <td>10.000000</td>\n",
       "      <td>10.000000</td>\n",
       "    </tr>\n",
       "  </tbody>\n",
       "</table>\n",
       "</div>"
      ],
      "text/plain": [
       "       review_scores_rating  review_scores_accuracy  \\\n",
       "count          38445.000000            38393.000000   \n",
       "mean              93.726648                9.589482   \n",
       "std                8.448151                0.839154   \n",
       "min               20.000000                2.000000   \n",
       "25%               91.000000                9.000000   \n",
       "50%               96.000000               10.000000   \n",
       "75%              100.000000               10.000000   \n",
       "max              100.000000               10.000000   \n",
       "\n",
       "       review_scores_cleanliness  review_scores_checkin  \\\n",
       "count               38414.000000           38365.000000   \n",
       "mean                    9.252877               9.731239   \n",
       "std                     1.082656               0.718694   \n",
       "min                     2.000000               2.000000   \n",
       "25%                     9.000000              10.000000   \n",
       "50%                    10.000000              10.000000   \n",
       "75%                    10.000000              10.000000   \n",
       "max                    10.000000              10.000000   \n",
       "\n",
       "       review_scores_communication  review_scores_location  \\\n",
       "count                 38400.000000            38359.000000   \n",
       "mean                      9.746536                9.496311   \n",
       "std                       0.711815                0.793227   \n",
       "min                       2.000000                2.000000   \n",
       "25%                      10.000000                9.000000   \n",
       "50%                      10.000000               10.000000   \n",
       "75%                      10.000000               10.000000   \n",
       "max                      10.000000               10.000000   \n",
       "\n",
       "       review_scores_value  \n",
       "count         38360.000000  \n",
       "mean              9.378467  \n",
       "std               0.898531  \n",
       "min               2.000000  \n",
       "25%               9.000000  \n",
       "50%              10.000000  \n",
       "75%              10.000000  \n",
       "max              10.000000  "
      ]
     },
     "execution_count": 7,
     "metadata": {},
     "output_type": "execute_result"
    }
   ],
   "source": [
    "listing[['review_scores_rating','review_scores_accuracy',\n",
    "          'review_scores_cleanliness','review_scores_checkin',\n",
    "          'review_scores_communication','review_scores_location',\n",
    "          'review_scores_value']].describe()"
   ]
  },
  {
   "cell_type": "code",
   "execution_count": 11,
   "metadata": {},
   "outputs": [
    {
     "data": {
      "image/png": "[encoded data removed]",
      "text/plain": [
       "<Figure size 432x288 with 1 Axes>"
      ]
     },
     "metadata": {},
     "output_type": "display_data"
    }
   ],
   "source": [
    "plt.hist(listing['review_scores_rating'].dropna(),bins=50,range=(0,100))\n",
    "plt.title('Distribution of review_scores_rating before down sampling')\n",
    "plt.xlabel('Rating')\n",
    "plt.show()"
   ]
  },
  {
   "cell_type": "code",
   "execution_count": 12,
   "metadata": {},
   "outputs": [
    {
     "data": {
      "image/png": "[encoded data removed]",
      "text/plain": [
       "<Figure size 432x288 with 6 Axes>"
      ]
     },
     "metadata": {
      "needs_background": "light"
     },
     "output_type": "display_data"
    }
   ],
   "source": [
    "fig,axes = plt.subplots(2,3,sharex=True, sharey=True)\n",
    "axes[0,0].hist(df['review_scores_accuracy'].dropna(),bins=10,range=(0,10))\n",
    "axes[0,1].hist(df['review_scores_cleanliness'].dropna(),bins=10,range=(0,10))\n",
    "axes[0,2].hist(df['review_scores_checkin'].dropna(),bins=10,range=(0,10))\n",
    "axes[1,0].hist(df['review_scores_communication'].dropna(),bins=10,range=(0,10))\n",
    "axes[1,1].hist(df['review_scores_location'].dropna(),bins=10,range=(0,10))\n",
    "axes[1,2].hist(df['review_scores_value'].dropna(),bins=10,range=(0,10))\n",
    "plt.show()"
   ]
  },
  {
   "cell_type": "code",
   "execution_count": 13,
   "metadata": {},
   "outputs": [
    {
     "name": "stdout",
     "output_type": "stream",
     "text": [
      "<class 'pandas.core.frame.DataFrame'>\n",
      "RangeIndex: 50041 entries, 0 to 50040\n",
      "Data columns (total 56 columns):\n",
      "id                                  50041 non-null int64\n",
      "host_since                          50032 non-null object\n",
      "host_location                       49884 non-null object\n",
      "host_response_time                  24089 non-null object\n",
      "host_response_rate                  24086 non-null object\n",
      "host_is_superhost                   50032 non-null object\n",
      "host_listings_count                 50032 non-null float64\n",
      "host_total_listings_count           50032 non-null float64\n",
      "host_verifications                  50041 non-null object\n",
      "host_has_profile_pic                50032 non-null object\n",
      "host_identity_verified              50032 non-null object\n",
      "neighbourhood_group_cleansed        50041 non-null object\n",
      "is_location_exact                   50041 non-null object\n",
      "property_type                       50041 non-null object\n",
      "room_type                           50041 non-null object\n",
      "accommodates                        50041 non-null int64\n",
      "bathrooms                           49945 non-null float64\n",
      "bedrooms                            49985 non-null float64\n",
      "beds                                49977 non-null float64\n",
      "bed_type                            50041 non-null object\n",
      "amenities                           50041 non-null object\n",
      "price                               50041 non-null object\n",
      "security_deposit                    30777 non-null object\n",
      "cleaning_fee                        37857 non-null object\n",
      "guests_included                     50041 non-null int64\n",
      "extra_people                        50041 non-null object\n",
      "minimum_nights                      50041 non-null int64\n",
      "maximum_nights                      50041 non-null int64\n",
      "calendar_updated                    50041 non-null object\n",
      "has_availability                    50041 non-null object\n",
      "availability_30                     50041 non-null int64\n",
      "availability_60                     50041 non-null int64\n",
      "availability_90                     50041 non-null int64\n",
      "availability_365                    50041 non-null int64\n",
      "number_of_reviews                   50041 non-null int64\n",
      "first_review                        39536 non-null object\n",
      "last_review                         39536 non-null object\n",
      "review_scores_rating                38445 non-null float64\n",
      "review_scores_accuracy              38393 non-null float64\n",
      "review_scores_cleanliness           38414 non-null float64\n",
      "review_scores_checkin               38365 non-null float64\n",
      "review_scores_communication         38400 non-null float64\n",
      "review_scores_location              38359 non-null float64\n",
      "review_scores_value                 38360 non-null float64\n",
      "instant_bookable                    50041 non-null object\n",
      "is_business_travel_ready            50041 non-null object\n",
      "cancellation_policy                 50041 non-null object\n",
      "require_guest_profile_picture       50041 non-null object\n",
      "require_guest_phone_verification    50041 non-null object\n",
      "calculated_host_listings_count      50041 non-null int64\n",
      "reviews_per_month                   39536 non-null float64\n",
      "has_neighborhood_overview           50041 non-null float64\n",
      "has_notes                           50041 non-null float64\n",
      "has_access                          50041 non-null float64\n",
      "has_interaction                     50041 non-null float64\n",
      "has_house_rules                     50041 non-null float64\n",
      "dtypes: float64(18), int64(11), object(27)\n",
      "memory usage: 21.4+ MB\n"
     ]
    }
   ],
   "source": [
    "listing.info()"
   ]
  },
  {
   "cell_type": "markdown",
   "metadata": {},
   "source": [
    "# Preprocessing"
   ]
  },
  {
   "cell_type": "markdown",
   "metadata": {},
   "source": [
    "####  host_since --> host_since_elapsed\n",
    "transform date to days elapsed from that date until today"
   ]
  },
  {
   "cell_type": "code",
   "execution_count": 14,
   "metadata": {},
   "outputs": [],
   "source": [
    "today = pd.datetime.today()\n",
    "listing['host_since'] = pd.to_datetime(listing['host_since'])\n",
    "listing['host_since_elapsed'] = (today - listing['host_since']).dt.days"
   ]
  },
  {
   "cell_type": "code",
   "execution_count": 15,
   "metadata": {},
   "outputs": [
    {
     "data": {
      "text/plain": [
       "9"
      ]
     },
     "execution_count": 15,
     "metadata": {},
     "output_type": "execute_result"
    }
   ],
   "source": [
    "listing['host_since_elapsed'].isnull().sum()"
   ]
  },
  {
   "cell_type": "code",
   "execution_count": 16,
   "metadata": {},
   "outputs": [
    {
     "data": {
      "image/png": "[encoded data removed]",
      "text/plain": [
       "<Figure size 432x288 with 1 Axes>"
      ]
     },
     "metadata": {
      "needs_background": "light"
     },
     "output_type": "display_data"
    }
   ],
   "source": [
    "plt.hist(listing['host_since_elapsed'].dropna(),bins=10,range=(0,4000))\n",
    "plt.show()"
   ]
  },
  {
   "cell_type": "code",
   "execution_count": 17,
   "metadata": {},
   "outputs": [],
   "source": [
    "listing.drop('host_since',1,inplace=True)"
   ]
  },
  {
   "cell_type": "markdown",
   "metadata": {},
   "source": [
    "####  host_location --> host_location_if_local\n",
    "if host location is in new york, set it to be 1, otherwise 0"
   ]
  },
  {
   "cell_type": "code",
   "execution_count": 18,
   "metadata": {},
   "outputs": [],
   "source": [
    "listing.loc[listing['host_location'] == 'New York, New York, United States','host_location_if_local'] = 1\n",
    "listing.loc[listing['host_location'] != 'New York, New York, United States','host_location_if_local'] = 0\n",
    "listing.loc[listing['host_location'].isnull(), 'host_location_if_local'] = np.NaN"
   ]
  },
  {
   "cell_type": "code",
   "execution_count": 19,
   "metadata": {},
   "outputs": [],
   "source": [
    "listing.drop('host_location',1,inplace=True)"
   ]
  },
  {
   "cell_type": "markdown",
   "metadata": {},
   "source": [
    "#### host_response_rate\n",
    "50% --> 0.5"
   ]
  },
  {
   "cell_type": "code",
   "execution_count": 20,
   "metadata": {},
   "outputs": [],
   "source": [
    "listing['host_response_rate'] = listing['host_response_rate'].str.rstrip('%').astype('float') / 100.0"
   ]
  },
  {
   "cell_type": "code",
   "execution_count": 21,
   "metadata": {},
   "outputs": [
    {
     "data": {
      "text/plain": [
       "25955"
      ]
     },
     "execution_count": 21,
     "metadata": {},
     "output_type": "execute_result"
    }
   ],
   "source": [
    "listing['host_response_rate'].isnull().sum()"
   ]
  },
  {
   "cell_type": "code",
   "execution_count": 22,
   "metadata": {},
   "outputs": [
    {
     "data": {
      "image/png": "[encoded data removed]",
      "text/plain": [
       "<Figure size 432x288 with 1 Axes>"
      ]
     },
     "metadata": {
      "needs_background": "light"
     },
     "output_type": "display_data"
    }
   ],
   "source": [
    "plt.hist(listing['host_response_rate'].dropna(),bins=10,range=(0,1))\n",
    "plt.show()"
   ]
  },
  {
   "cell_type": "code",
   "execution_count": 23,
   "metadata": {},
   "outputs": [],
   "source": [
    "# listing['logit_host_response_rate'] = np.log(listing['host_response_rate']/(1-listing['host_response_rate']))"
   ]
  },
  {
   "cell_type": "code",
   "execution_count": 24,
   "metadata": {},
   "outputs": [],
   "source": [
    "# plt.hist(listing['logit_host_response_rate'].dropna(),bins=10,range=(-5,9))\n",
    "# plt.show()"
   ]
  },
  {
   "cell_type": "code",
   "execution_count": 25,
   "metadata": {},
   "outputs": [],
   "source": [
    "# listing.drop('host_response_rate',1,inplace=True)"
   ]
  },
  {
   "cell_type": "markdown",
   "metadata": {},
   "source": [
    "#### host_verifications\n",
    "split to host_verifications_phone, host_verifications_sasame,..."
   ]
  },
  {
   "cell_type": "code",
   "execution_count": 26,
   "metadata": {},
   "outputs": [
    {
     "data": {
      "text/plain": [
       "['email',\n",
       " 'phone',\n",
       " 'facebook',\n",
       " 'reviews',\n",
       " 'jumio',\n",
       " 'offline_government_id',\n",
       " 'government_id']"
      ]
     },
     "execution_count": 26,
     "metadata": {},
     "output_type": "execute_result"
    }
   ],
   "source": [
    "listing['host_verifications'][0].strip('[]').replace('\\'','').replace(' ','').split(',')"
   ]
  },
  {
   "cell_type": "code",
   "execution_count": 27,
   "metadata": {},
   "outputs": [
    {
     "data": {
      "text/plain": [
       "['email', 'phone', 'reviews', 'kba', 'work_email']"
      ]
     },
     "execution_count": 27,
     "metadata": {},
     "output_type": "execute_result"
    }
   ],
   "source": [
    "listing['host_verifications'] = listing['host_verifications'].apply(lambda item : str(item).strip('[]').replace('\\'','').replace(' ','').split(','))\n",
    "listing['host_verifications'][2]\n",
    "##nan?"
   ]
  },
  {
   "cell_type": "code",
   "execution_count": 28,
   "metadata": {},
   "outputs": [
    {
     "data": {
      "text/plain": [
       "['google',\n",
       " 'facebook',\n",
       " 'weibo',\n",
       " 'offline_government_id',\n",
       " 'manual_offline',\n",
       " 'jumio',\n",
       " 'zhima_selfie',\n",
       " 'kba',\n",
       " 'sesame',\n",
       " 'email',\n",
       " 'work_email',\n",
       " 'None',\n",
       " 'phone',\n",
       " 'reviews',\n",
       " 'selfie',\n",
       " 'sesame_offline',\n",
       " 'photographer',\n",
       " 'government_id',\n",
       " 'identity_manual',\n",
       " 'manual_online',\n",
       " 'sent_id']"
      ]
     },
     "execution_count": 28,
     "metadata": {},
     "output_type": "execute_result"
    }
   ],
   "source": [
    "verifications = []\n",
    "for item in listing['host_verifications']:\n",
    "    verifications += item\n",
    "verifications = list(filter(None,set(verifications)))\n",
    "verifications"
   ]
  },
  {
   "cell_type": "code",
   "execution_count": 29,
   "metadata": {},
   "outputs": [],
   "source": [
    "for verif in verifications:\n",
    "    listing.loc[listing['host_verifications'].map(lambda x: verif in x),'host_verifications_'+str(verif)] = 1\n",
    "    listing['host_verifications_'+str(verif)].fillna(0,inplace=True)"
   ]
  },
  {
   "cell_type": "code",
   "execution_count": 30,
   "metadata": {},
   "outputs": [
    {
     "data": {
      "text/plain": [
       "array([0., 1.])"
      ]
     },
     "execution_count": 30,
     "metadata": {},
     "output_type": "execute_result"
    }
   ],
   "source": [
    "listing['host_verifications_weibo'].unique()"
   ]
  },
  {
   "cell_type": "code",
   "execution_count": 31,
   "metadata": {},
   "outputs": [],
   "source": [
    "listing.drop('host_verifications',1,inplace=True)"
   ]
  },
  {
   "cell_type": "markdown",
   "metadata": {},
   "source": [
    "#### amenities\n",
    "split to amenities_TV, amenities_Cable_TV ..."
   ]
  },
  {
   "cell_type": "code",
   "execution_count": 32,
   "metadata": {},
   "outputs": [
    {
     "data": {
      "text/plain": [
       "'{TV,\"Cable TV\",Internet,Wifi,\"Air conditioning\",Kitchen,\"Free street parking\",\"Buzzer/wireless intercom\",Heating,\"Family/kid friendly\",\"Smoke detector\",\"Carbon monoxide detector\",\"Fire extinguisher\",Essentials,Shampoo,\"Lock on bedroom door\",Hangers,\"Hair dryer\",Iron,\"Laptop friendly workspace\",\"Children’s books and toys\",\"Window guards\",\"Pack ’n Play/travel crib\",\"Hot water\",Microwave,\"Coffee maker\",Refrigerator,\"Dishes and silverware\",\"Cooking basics\",Oven,Stove,\"Host greets you\"}'"
      ]
     },
     "execution_count": 32,
     "metadata": {},
     "output_type": "execute_result"
    }
   ],
   "source": [
    "listing['amenities'][0]"
   ]
  },
  {
   "cell_type": "code",
   "execution_count": 33,
   "metadata": {},
   "outputs": [],
   "source": [
    "#convert to list\n",
    "listing['amenities'] = listing['amenities'].apply(lambda item : item.strip('{}').replace('\\\"','').split(','))"
   ]
  },
  {
   "cell_type": "code",
   "execution_count": 34,
   "metadata": {},
   "outputs": [
    {
     "data": {
      "text/plain": [
       "['Carbon monoxide detector',\n",
       " 'Pets allowed',\n",
       " 'Hair dryer',\n",
       " 'Cat(s)',\n",
       " 'Host greets you',\n",
       " 'Children’s books and toys',\n",
       " 'Lockbox',\n",
       " 'High chair',\n",
       " 'Outlet covers',\n",
       " 'Bed linens',\n",
       " 'Baby bath',\n",
       " 'Dryer',\n",
       " 'Changing table',\n",
       " 'Long term stays allowed',\n",
       " 'Dog(s)',\n",
       " 'Wide hallway clearance',\n",
       " 'Cleaning before checkout',\n",
       " 'Family/kid friendly',\n",
       " 'Beachfront',\n",
       " 'Bathtub',\n",
       " 'Shampoo',\n",
       " 'Microwave',\n",
       " 'Smoke detector',\n",
       " 'Bathtub with bath chair',\n",
       " 'TV',\n",
       " 'Well-lit path to entrance',\n",
       " 'Lock on bedroom door',\n",
       " 'Patio or balcony',\n",
       " 'Coffee maker',\n",
       " 'Wifi',\n",
       " 'Stair gates',\n",
       " 'Other pet(s)',\n",
       " 'EV charger',\n",
       " 'Self check-in',\n",
       " 'Washer / Dryer',\n",
       " 'Private living room',\n",
       " 'Breakfast',\n",
       " 'Elevator',\n",
       " 'Fire extinguisher',\n",
       " 'Luggage dropoff allowed',\n",
       " 'Waterfront',\n",
       " 'Gym',\n",
       " 'First aid kit',\n",
       " 'Pool',\n",
       " 'Suitable for events',\n",
       " 'Pocket wifi',\n",
       " 'Kitchen',\n",
       " 'translation missing: en.hosting_amenity_49',\n",
       " '24-hour check-in',\n",
       " 'Air conditioning',\n",
       " 'Pets live on this property',\n",
       " 'Dishwasher',\n",
       " 'Beach essentials',\n",
       " 'Wide doorway',\n",
       " 'Essentials',\n",
       " 'Stove',\n",
       " 'Wheelchair accessible',\n",
       " 'Internet',\n",
       " 'Refrigerator',\n",
       " 'Building staff',\n",
       " 'Free street parking',\n",
       " 'Accessible-height toilet',\n",
       " 'Free parking on premises',\n",
       " 'Wide clearance to shower',\n",
       " 'Lake access',\n",
       " 'Indoor fireplace',\n",
       " 'Step-free access',\n",
       " 'Private bathroom',\n",
       " 'Other',\n",
       " 'Paid parking off premises',\n",
       " 'Roll-in shower',\n",
       " 'Hot water kettle',\n",
       " 'Dishes and silverware',\n",
       " 'Hangers',\n",
       " 'Oven',\n",
       " 'Shower chair',\n",
       " 'Paid parking on premises',\n",
       " 'Accessible-height bed',\n",
       " 'Ceiling hoist',\n",
       " 'Heating',\n",
       " 'Air purifier',\n",
       " 'Cooking basics',\n",
       " 'Game console',\n",
       " 'Smart lock',\n",
       " 'Hot water',\n",
       " 'Handheld shower head',\n",
       " 'Cable TV',\n",
       " 'Buzzer/wireless intercom',\n",
       " 'Fixed grab bars for shower',\n",
       " 'Private entrance',\n",
       " 'Iron',\n",
       " 'Table corner guards',\n",
       " 'Crib',\n",
       " 'Baby monitor',\n",
       " 'Children’s dinnerware',\n",
       " 'Pool with pool hoist',\n",
       " 'Room-darkening shades',\n",
       " 'Mobile hoist',\n",
       " 'Pack ’n Play/travel crib',\n",
       " 'Washer',\n",
       " 'Flat path to front door',\n",
       " 'Ground floor access',\n",
       " 'Extra pillows and blankets',\n",
       " 'Laptop friendly workspace',\n",
       " 'Safety card',\n",
       " 'Wide clearance to bed',\n",
       " 'Garden or backyard',\n",
       " 'Smoking allowed',\n",
       " 'Wide entryway',\n",
       " 'Fireplace guards',\n",
       " 'Electric profiling bed',\n",
       " 'Keypad',\n",
       " ' toilet',\n",
       " 'Ethernet connection',\n",
       " 'Doorman',\n",
       " 'BBQ grill',\n",
       " 'Hot tub',\n",
       " 'Firm mattress',\n",
       " 'Babysitter recommendations',\n",
       " 'Ski-in/Ski-out',\n",
       " 'Fixed grab bars for toilet',\n",
       " 'Single level home',\n",
       " 'translation missing: en.hosting_amenity_50',\n",
       " 'Window guards',\n",
       " 'Disabled parking spot']"
      ]
     },
     "execution_count": 34,
     "metadata": {},
     "output_type": "execute_result"
    }
   ],
   "source": [
    "amenities = []\n",
    "for item in listing['amenities']:\n",
    "    amenities += item\n",
    "amenities = list(filter(None,set(amenities)))\n",
    "amenities"
   ]
  },
  {
   "cell_type": "code",
   "execution_count": 35,
   "metadata": {},
   "outputs": [
    {
     "data": {
      "text/plain": [
       "array([1., 0.])"
      ]
     },
     "execution_count": 35,
     "metadata": {},
     "output_type": "execute_result"
    }
   ],
   "source": [
    "for amen in amenities:\n",
    "    col = 'amenities_'+str(amen).replace(' ','_')\n",
    "    listing.loc[listing['amenities'].map(lambda x: amen in x),col] = 1\n",
    "    listing[col].fillna(0,inplace=True)\n",
    "listing['amenities_TV'].unique()"
   ]
  },
  {
   "cell_type": "code",
   "execution_count": 36,
   "metadata": {},
   "outputs": [],
   "source": [
    "listing.drop('amenities',1,inplace=True)"
   ]
  },
  {
   "cell_type": "markdown",
   "metadata": {},
   "source": [
    "### Money sign\n",
    "- price\n",
    "- security_deposit\n",
    "- cleaning_fee\n",
    "- extra_people"
   ]
  },
  {
   "cell_type": "code",
   "execution_count": 37,
   "metadata": {},
   "outputs": [],
   "source": [
    "for col in ['price','security_deposit','cleaning_fee','extra_people']:\n",
    "    listing[col]= listing[col].apply(lambda x: float(str(x).replace(',','').replace('$','')))"
   ]
  },
  {
   "cell_type": "markdown",
   "metadata": {},
   "source": [
    "#### calendar_updated"
   ]
  },
  {
   "cell_type": "code",
   "execution_count": 38,
   "metadata": {},
   "outputs": [
    {
     "data": {
      "text/plain": [
       "array(['today', 'a week ago', '25 months ago', '2 days ago',\n",
       "       '9 months ago', '3 months ago', '3 weeks ago', '14 months ago',\n",
       "       '7 weeks ago', '3 days ago', '7 months ago', '6 weeks ago',\n",
       "       '2 months ago', 'yesterday', '2 weeks ago', '8 months ago',\n",
       "       '4 months ago', '4 weeks ago', '5 weeks ago', '72 months ago',\n",
       "       '5 months ago', '6 days ago', '4 days ago', '16 months ago',\n",
       "       '18 months ago', '6 months ago', '32 months ago', '27 months ago',\n",
       "       '1 week ago', '39 months ago', '13 months ago', '5 days ago',\n",
       "       '17 months ago', '26 months ago', '11 months ago', '22 months ago',\n",
       "       '28 months ago', 'never', '24 months ago', '33 months ago',\n",
       "       '15 months ago', '68 months ago', '36 months ago', '19 months ago',\n",
       "       '35 months ago', '10 months ago', '23 months ago', '41 months ago',\n",
       "       '12 months ago', '81 months ago', '37 months ago', '40 months ago',\n",
       "       '38 months ago', '34 months ago', '42 months ago', '50 months ago',\n",
       "       '45 months ago', '21 months ago', '57 months ago', '20 months ago',\n",
       "       '29 months ago', '30 months ago', '47 months ago', '79 months ago',\n",
       "       '78 months ago', '75 months ago', '73 months ago', '67 months ago',\n",
       "       '71 months ago', '69 months ago', '43 months ago', '31 months ago',\n",
       "       '65 months ago', '49 months ago', '51 months ago', '56 months ago',\n",
       "       '64 months ago', '63 months ago', '52 months ago', '44 months ago',\n",
       "       '46 months ago', '53 months ago', '58 months ago', '55 months ago',\n",
       "       '48 months ago', '54 months ago'], dtype=object)"
      ]
     },
     "execution_count": 38,
     "metadata": {},
     "output_type": "execute_result"
    }
   ],
   "source": [
    "listing['calendar_updated'].unique()"
   ]
  },
  {
   "cell_type": "code",
   "execution_count": 39,
   "metadata": {},
   "outputs": [],
   "source": [
    "#months\n",
    "listing.loc[listing['calendar_updated'].str.contains('months'),'calendar_updated'] = listing.loc[listing['calendar_updated'].str.contains('months'),'calendar_updated'].apply(lambda x: float(x.split(' ')[0])*30)"
   ]
  },
  {
   "cell_type": "code",
   "execution_count": 40,
   "metadata": {},
   "outputs": [],
   "source": [
    "#weeks\n",
    "listing.loc[listing['calendar_updated']=='a week ago','calendar_updated'] = 7\n",
    "listing.loc[listing['calendar_updated']=='1 week ago','calendar_updated'] = 7\n",
    "listing.loc[listing['calendar_updated'].str.contains('weeks',na=False),'calendar_updated'] = listing.loc[listing['calendar_updated'].str.contains('weeks',na=False),'calendar_updated'].apply(lambda x: float(x.split(' ')[0])*7)"
   ]
  },
  {
   "cell_type": "code",
   "execution_count": 41,
   "metadata": {},
   "outputs": [],
   "source": [
    "#days\n",
    "listing.loc[listing['calendar_updated']=='yesterday','calendar_updated'] = 1\n",
    "listing.loc[listing['calendar_updated']=='today','calendar_updated'] = 0\n",
    "listing.loc[listing['calendar_updated'].str.contains('days',na=False),'calendar_updated'] = listing.loc[listing['calendar_updated'].str.contains('weeks',na=False),'calendar_updated'].apply(lambda x: float(x.split(' ')[0]))"
   ]
  },
  {
   "cell_type": "code",
   "execution_count": 42,
   "metadata": {},
   "outputs": [],
   "source": [
    "#never\n",
    "listing.loc[listing['calendar_updated']=='never','calendar_updated'] = -1"
   ]
  },
  {
   "cell_type": "code",
   "execution_count": 43,
   "metadata": {},
   "outputs": [
    {
     "data": {
      "text/plain": [
       "4555"
      ]
     },
     "execution_count": 43,
     "metadata": {},
     "output_type": "execute_result"
    }
   ],
   "source": [
    "listing['calendar_updated'] = listing['calendar_updated'].astype('float64')\n",
    "listing['calendar_updated'].isnull().sum()"
   ]
  },
  {
   "cell_type": "code",
   "execution_count": 62,
   "metadata": {},
   "outputs": [
    {
     "data": {
      "image/png": "[encoded data removed]",
      "text/plain": [
       "<Figure size 432x288 with 1 Axes>"
      ]
     },
     "metadata": {
      "needs_background": "light"
     },
     "output_type": "display_data"
    }
   ],
   "source": [
    "plt.hist(listing['calendar_updated'].dropna(),bins=10,\n",
    "         range=(-1,max(listing['calendar_updated'])))\n",
    "plt.show()"
   ]
  },
  {
   "cell_type": "markdown",
   "metadata": {},
   "source": [
    "#### first_review, last_review"
   ]
  },
  {
   "cell_type": "code",
   "execution_count": 45,
   "metadata": {},
   "outputs": [],
   "source": [
    "listing['first_review'] = pd.to_datetime(listing['first_review'])\n",
    "listing['last_review'] = pd.to_datetime(listing['last_review'])"
   ]
  },
  {
   "cell_type": "markdown",
   "metadata": {},
   "source": [
    "### Dummy features: \n",
    "'t', 'f', (nan)\n",
    "- host_is_superhost\n",
    "- host_has_profile_pic\n",
    "- host_identity_verified\n",
    "- is_location_exact\n",
    "- has_availability\n",
    "- instant_bookable\n",
    "- is_business_travel_ready\n",
    "- require_guest_profile_picture\n",
    "- require_guest_phone_verification"
   ]
  },
  {
   "cell_type": "code",
   "execution_count": 46,
   "metadata": {},
   "outputs": [
    {
     "data": {
      "text/plain": [
       "array(['f', 't'], dtype=object)"
      ]
     },
     "execution_count": 46,
     "metadata": {},
     "output_type": "execute_result"
    }
   ],
   "source": [
    "listing['instant_bookable'].unique()"
   ]
  },
  {
   "cell_type": "code",
   "execution_count": 47,
   "metadata": {},
   "outputs": [],
   "source": [
    "dummy_cols = ['host_is_superhost','host_has_profile_pic',\n",
    "              'host_identity_verified','is_location_exact',\n",
    "              'has_availability','instant_bookable','is_business_travel_ready',\n",
    "              'require_guest_profile_picture','require_guest_phone_verification']\n",
    "for col in dummy_cols:\n",
    "    listing.loc[listing[col] == 't',col] = '1'\n",
    "    listing.loc[listing[col] == 'f',col] = '0'\n",
    "    listing[col] = pd.to_numeric(listing[col])"
   ]
  },
  {
   "cell_type": "markdown",
   "metadata": {},
   "source": [
    "### Categorical features:\n",
    "- host_response_time\n",
    "- neighbourhood_group_cleansed\n",
    "- market\n",
    "- property_type\n",
    "- room_type\n",
    "- bed_type\n",
    "- cancellation_policy"
   ]
  },
  {
   "cell_type": "code",
   "execution_count": 48,
   "metadata": {},
   "outputs": [
    {
     "name": "stdout",
     "output_type": "stream",
     "text": [
      "host_response_time:  [nan 'within a day' 'within an hour' 'within a few hours'\n",
      " 'a few days or more']\n",
      "neighbourhood_group_cleansed:  ['Manhattan' 'Brooklyn' 'Queens' 'Bronx' 'Staten Island']\n",
      "property_type:  ['Apartment' 'Guest suite' 'House' 'Condominium' 'Loft' 'Townhouse'\n",
      " 'Bed and breakfast' 'Boutique hotel' 'Tiny house' 'Guesthouse'\n",
      " 'Serviced apartment' 'Other' 'Resort' 'Boat' 'Hotel' 'Aparthotel'\n",
      " 'Bungalow' 'Hostel' 'Cottage' 'Tent' 'Villa' 'Cave' 'Nature lodge'\n",
      " 'Houseboat' 'Cabin' 'Castle' 'Train' 'Timeshare' 'Camper/RV'\n",
      " 'Casa particular (Cuba)']\n",
      "room_type:  ['Private room' 'Entire home/apt' 'Shared room']\n",
      "bed_type:  ['Real Bed' 'Pull-out Sofa' 'Futon' 'Couch' 'Airbed']\n",
      "cancellation_policy:  ['strict_14_with_grace_period' 'moderate' 'flexible' 'super_strict_30'\n",
      " 'strict' 'long_term' 'super_strict_60']\n"
     ]
    }
   ],
   "source": [
    "#Catogorical data values\n",
    "cat_cols = ['host_response_time','neighbourhood_group_cleansed',\n",
    "            'property_type','room_type','bed_type','cancellation_policy']\n",
    "for col in cat_cols:\n",
    "    print(col+str(': ') ,listing[col].unique())"
   ]
  },
  {
   "cell_type": "code",
   "execution_count": 49,
   "metadata": {},
   "outputs": [],
   "source": [
    "listing.loc[listing['host_response_time'] == 'within an hour','host_response_time'] = '0'\n",
    "listing.loc[listing['host_response_time'] == 'within a few hours','host_response_time'] = '1'\n",
    "listing.loc[listing['host_response_time'] == 'within a day','host_response_time'] = '2'\n",
    "listing.loc[listing['host_response_time'] == 'a few days or more','host_response_time'] = '3'\n",
    "listing['host_response_time'] = pd.to_numeric(listing['host_response_time'])"
   ]
  },
  {
   "cell_type": "code",
   "execution_count": 50,
   "metadata": {},
   "outputs": [],
   "source": [
    "cat_cols = ['neighbourhood_group_cleansed',\n",
    "            'property_type','room_type','bed_type','cancellation_policy']\n",
    "dummies = pd.get_dummies(listing[cat_cols])\n",
    "pd.concat([listing,dummies],axis = 1)\n",
    "listing.drop(cat_cols,1,inplace=True)"
   ]
  },
  {
   "cell_type": "code",
   "execution_count": 53,
   "metadata": {},
   "outputs": [
    {
     "data": {
      "text/plain": [
       "Index(['host_response_time', 'host_response_rate', 'host_is_superhost',\n",
       "       'host_listings_count', 'host_total_listings_count',\n",
       "       'host_has_profile_pic', 'host_identity_verified', 'bathrooms',\n",
       "       'bedrooms', 'beds',\n",
       "       ...\n",
       "       'amenities_BBQ_grill', 'amenities_Hot_tub', 'amenities_Firm_mattress',\n",
       "       'amenities_Babysitter_recommendations', 'amenities_Ski-in/Ski-out',\n",
       "       'amenities_Fixed_grab_bars_for_toilet', 'amenities_Single_level_home',\n",
       "       'amenities_translation_missing:_en.hosting_amenity_50',\n",
       "       'amenities_Window_guards', 'amenities_Disabled_parking_spot'],\n",
       "      dtype='object', length=176)"
      ]
     },
     "execution_count": 53,
     "metadata": {},
     "output_type": "execute_result"
    }
   ],
   "source": [
    "listing.select_dtypes(include='float64').columns"
   ]
  },
  {
   "cell_type": "code",
   "execution_count": 56,
   "metadata": {},
   "outputs": [
    {
     "data": {
      "text/plain": [
       "176"
      ]
     },
     "execution_count": 56,
     "metadata": {},
     "output_type": "execute_result"
    }
   ],
   "source": [
    "len(listing.select_dtypes(include='float64').columns)"
   ]
  },
  {
   "cell_type": "code",
   "execution_count": 54,
   "metadata": {},
   "outputs": [
    {
     "data": {
      "text/plain": [
       "Index(['first_review', 'last_review'], dtype='object')"
      ]
     },
     "execution_count": 54,
     "metadata": {},
     "output_type": "execute_result"
    }
   ],
   "source": [
    "listing.select_dtypes(include='datetime').columns"
   ]
  },
  {
   "cell_type": "code",
   "execution_count": 55,
   "metadata": {},
   "outputs": [
    {
     "data": {
      "text/plain": [
       "2"
      ]
     },
     "execution_count": 55,
     "metadata": {},
     "output_type": "execute_result"
    }
   ],
   "source": [
    "len(listing.select_dtypes(include='datetime').columns)"
   ]
  },
  {
   "cell_type": "code",
   "execution_count": 58,
   "metadata": {},
   "outputs": [
    {
     "data": {
      "text/plain": [
       "Index(['id', 'is_location_exact', 'accommodates', 'guests_included',\n",
       "       'minimum_nights', 'maximum_nights', 'has_availability',\n",
       "       'availability_30', 'availability_60', 'availability_90',\n",
       "       'availability_365', 'number_of_reviews', 'instant_bookable',\n",
       "       'is_business_travel_ready', 'require_guest_profile_picture',\n",
       "       'require_guest_phone_verification', 'calculated_host_listings_count'],\n",
       "      dtype='object')"
      ]
     },
     "execution_count": 58,
     "metadata": {},
     "output_type": "execute_result"
    }
   ],
   "source": [
    "listing.select_dtypes(include='int').columns"
   ]
  },
  {
   "cell_type": "code",
   "execution_count": 60,
   "metadata": {},
   "outputs": [
    {
     "data": {
      "text/plain": [
       "17"
      ]
     },
     "execution_count": 60,
     "metadata": {},
     "output_type": "execute_result"
    }
   ],
   "source": [
    "len(listing.select_dtypes(include='int').columns)"
   ]
  },
  {
   "cell_type": "code",
   "execution_count": 57,
   "metadata": {},
   "outputs": [
    {
     "data": {
      "text/plain": [
       "195"
      ]
     },
     "execution_count": 57,
     "metadata": {},
     "output_type": "execute_result"
    }
   ],
   "source": [
    "len(listing.columns)"
   ]
  },
  {
   "cell_type": "code",
   "execution_count": 61,
   "metadata": {},
   "outputs": [],
   "source": [
    "listing.to_csv('listings_processed.csv', sep='\\t')"
   ]
  },
  {
   "cell_type": "markdown",
   "metadata": {},
   "source": [
    "# TO DO:\n",
    "- process missing values\n",
    "- look at data distribution and check if transformation is needed\n",
    "- feature correlations\n",
    "- PCA to reduce dimension\n",
    "- baseline model(Logit)\n",
    "\n",
    "*host_response_time, host_response_rate which to drop"
   ]
  },
  {
   "cell_type": "code",
   "execution_count": null,
   "metadata": {},
   "outputs": [],
   "source": []
  }
 ],
 "metadata": {
  "kernelspec": {
   "display_name": "Python 3",
   "language": "python",
   "name": "python3"
  },
  "language_info": {
   "codemirror_mode": {
    "name": "ipython",
    "version": 3
   },
   "file_extension": ".py",
   "mimetype": "text/x-python",
   "name": "python",
   "nbconvert_exporter": "python",
   "pygments_lexer": "ipython3",
   "version": "3.6.5"
  }
 },
 "nbformat": 4,
 "nbformat_minor": 2
}
